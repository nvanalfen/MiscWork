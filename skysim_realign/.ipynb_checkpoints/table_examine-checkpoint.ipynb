{
 "cells": [
  {
   "cell_type": "code",
   "execution_count": 3,
   "id": "7f624a7c-5682-4d89-996b-b2befef443db",
   "metadata": {
    "tags": []
   },
   "outputs": [],
   "source": [
    "from astropy.table import Table\n",
    "import numpy as np\n",
    "from astropy.io import ascii"
   ]
  },
  {
   "cell_type": "code",
   "execution_count": 33,
   "id": "fe78f82c-2d13-4afb-9b38-504297b6c725",
   "metadata": {
    "tags": []
   },
   "outputs": [],
   "source": [
    "def peek(some_set, ind=None):\n",
    "    if ind is None:\n",
    "        a = some_set.pop()\n",
    "        some_set.add(a)\n",
    "        return a\n",
    "    \n",
    "    assert isinstance(ind, int), \"Index must be integer\"\n",
    "    assert ind >= 0, \"Index must be positive integer\"\n",
    "    assert ind < len(some_set), \"Index must be less than the length of the set\"\n",
    "    i = 0\n",
    "    for el in some_set:\n",
    "        if i == ind:\n",
    "            return el\n",
    "        i += 1"
   ]
  },
  {
   "cell_type": "code",
   "execution_count": 8,
   "id": "db85f228-a458-4fbd-8eff-e8bd2fea4a92",
   "metadata": {
    "tags": []
   },
   "outputs": [],
   "source": [
    "path = \"/pscratch/sd/v/vanalfen/table_examine.dat\""
   ]
  },
  {
   "cell_type": "code",
   "execution_count": 15,
   "id": "309dbeb6-f5d3-4b79-9e2d-1961347e6f53",
   "metadata": {
    "tags": []
   },
   "outputs": [],
   "source": [
    "tab = ascii.read(path)"
   ]
  },
  {
   "cell_type": "code",
   "execution_count": 16,
   "id": "0f264386-4f3d-4920-9e01-79664f314a35",
   "metadata": {
    "tags": []
   },
   "outputs": [
    {
     "data": {
      "text/plain": [
       "['baseDC2/target_halo_mass',\n",
       " 'redshift',\n",
       " 'redshiftHubble',\n",
       " 'redshift_true',\n",
       " 'ra',\n",
       " 'ra_true',\n",
       " 'is_central',\n",
       " 'dec',\n",
       " 'dec_true',\n",
       " 'shear_1',\n",
       " 'shear_2',\n",
       " 'shear_2_treecorr',\n",
       " 'shear1',\n",
       " 'shear2',\n",
       " 'tidal_s_11',\n",
       " 'tidal_s_12',\n",
       " 'tidal_s_22',\n",
       " 'mag_true_r',\n",
       " 'mag_true_r_sdss',\n",
       " 'mag_true_r_lsst',\n",
       " 'baseDC2/target_halo_x',\n",
       " 'baseDC2/target_halo_y',\n",
       " 'baseDC2/target_halo_z',\n",
       " 'baseDC2/target_halo_axis_A_x',\n",
       " 'baseDC2/target_halo_axis_A_y',\n",
       " 'baseDC2/target_halo_axis_A_z',\n",
       " 'ellipticity_1_true',\n",
       " 'ellipticity_2_true',\n",
       " 'ellipticity_true',\n",
       " 'x',\n",
       " 'y',\n",
       " 'z',\n",
       " 'morphology/totalEllipticity',\n",
       " 'morphology/totalEllipticity1',\n",
       " 'morphology/totalEllipticity2',\n",
       " 'baseDC2/hostid',\n",
       " 'baseDC2/upid',\n",
       " 'galaxyID',\n",
       " 'baseDC2/halo_id']"
      ]
     },
     "execution_count": 16,
     "metadata": {},
     "output_type": "execute_result"
    }
   ],
   "source": [
    "tab.keys()"
   ]
  },
  {
   "cell_type": "code",
   "execution_count": 19,
   "id": "42a5efc8-9ee1-48dd-904f-5d7b84d17bea",
   "metadata": {
    "tags": []
   },
   "outputs": [
    {
     "data": {
      "text/html": [
       "<div><i>Table length=3439960</i>\n",
       "<table id=\"table139669738953616\" class=\"table-striped table-bordered table-condensed\">\n",
       "<thead><tr><th>baseDC2/halo_id</th><th>baseDC2/hostid</th><th>baseDC2/upid</th><th>galaxyID</th></tr></thead>\n",
       "<thead><tr><th>int64</th><th>int64</th><th>int64</th><th>int64</th></tr></thead>\n",
       "<tr><td>-20</td><td>11843877242</td><td>-1</td><td>8135000000818</td></tr>\n",
       "<tr><td>-20</td><td>11844042612</td><td>-1</td><td>8135000002521</td></tr>\n",
       "<tr><td>-20</td><td>11539210454</td><td>-1</td><td>8135000007351</td></tr>\n",
       "<tr><td>-20</td><td>11104994218</td><td>-1</td><td>8135000012658</td></tr>\n",
       "<tr><td>-20</td><td>11121500911</td><td>-1</td><td>8135000013157</td></tr>\n",
       "<tr><td>-20</td><td>11110018661</td><td>-1</td><td>8135000018880</td></tr>\n",
       "<tr><td>-20</td><td>11092350049</td><td>-1</td><td>8135000019304</td></tr>\n",
       "<tr><td>-20</td><td>11074731652</td><td>-1</td><td>8135000020025</td></tr>\n",
       "<tr><td>-20</td><td>11103113392</td><td>-1</td><td>8135000020822</td></tr>\n",
       "<tr><td>-20</td><td>11086822250</td><td>-1</td><td>8135000021431</td></tr>\n",
       "<tr><td>...</td><td>...</td><td>...</td><td>...</td></tr>\n",
       "<tr><td>-20</td><td>7597410615</td><td>-1</td><td>9792000419873</td></tr>\n",
       "<tr><td>-20</td><td>7609729802</td><td>-1</td><td>9792000420069</td></tr>\n",
       "<tr><td>-20</td><td>7590450812</td><td>-1</td><td>9792000421694</td></tr>\n",
       "<tr><td>-20</td><td>7578481585</td><td>-1</td><td>9792000422434</td></tr>\n",
       "<tr><td>-20</td><td>7606693308</td><td>-1</td><td>9792000422450</td></tr>\n",
       "<tr><td>-20</td><td>7589777164</td><td>-1</td><td>9792000422652</td></tr>\n",
       "<tr><td>-20</td><td>7609181109</td><td>-1</td><td>9792000423341</td></tr>\n",
       "<tr><td>-20</td><td>7586697829</td><td>-1</td><td>9792000423437</td></tr>\n",
       "<tr><td>-20</td><td>7586784284</td><td>-1</td><td>9792000423976</td></tr>\n",
       "<tr><td>-20</td><td>7588454583</td><td>-1</td><td>9792000424079</td></tr>\n",
       "</table></div>"
      ],
      "text/plain": [
       "<Table length=3439960>\n",
       "baseDC2/halo_id baseDC2/hostid baseDC2/upid    galaxyID  \n",
       "     int64          int64         int64         int64    \n",
       "--------------- -------------- ------------ -------------\n",
       "            -20    11843877242           -1 8135000000818\n",
       "            -20    11844042612           -1 8135000002521\n",
       "            -20    11539210454           -1 8135000007351\n",
       "            -20    11104994218           -1 8135000012658\n",
       "            -20    11121500911           -1 8135000013157\n",
       "            -20    11110018661           -1 8135000018880\n",
       "            -20    11092350049           -1 8135000019304\n",
       "            -20    11074731652           -1 8135000020025\n",
       "            -20    11103113392           -1 8135000020822\n",
       "            -20    11086822250           -1 8135000021431\n",
       "            ...            ...          ...           ...\n",
       "            -20     7597410615           -1 9792000419873\n",
       "            -20     7609729802           -1 9792000420069\n",
       "            -20     7590450812           -1 9792000421694\n",
       "            -20     7578481585           -1 9792000422434\n",
       "            -20     7606693308           -1 9792000422450\n",
       "            -20     7589777164           -1 9792000422652\n",
       "            -20     7609181109           -1 9792000423341\n",
       "            -20     7586697829           -1 9792000423437\n",
       "            -20     7586784284           -1 9792000423976\n",
       "            -20     7588454583           -1 9792000424079"
      ]
     },
     "execution_count": 19,
     "metadata": {},
     "output_type": "execute_result"
    }
   ],
   "source": [
    "tab[\"baseDC2/halo_id\", \"baseDC2/hostid\", \"baseDC2/upid\", \"galaxyID\"]"
   ]
  },
  {
   "cell_type": "code",
   "execution_count": 21,
   "id": "ecba881d-e7d4-42a2-ad3b-0393143aaa03",
   "metadata": {
    "tags": []
   },
   "outputs": [],
   "source": [
    "ind = 0\n",
    "for i in range(len(tab[\"baseDC2/hostid\"])):\n",
    "    if tab[\"baseDC2/hostid\"][i] == tab[\"baseDC2/hostid\"][i+1]:\n",
    "        ind = i\n",
    "        break"
   ]
  },
  {
   "cell_type": "code",
   "execution_count": 22,
   "id": "01e7e9d0-b1a1-4bb2-a73e-c2d45a5b6db5",
   "metadata": {
    "tags": []
   },
   "outputs": [
    {
     "data": {
      "text/plain": [
       "17"
      ]
     },
     "execution_count": 22,
     "metadata": {},
     "output_type": "execute_result"
    }
   ],
   "source": [
    "ind"
   ]
  },
  {
   "cell_type": "code",
   "execution_count": 24,
   "id": "ffbb4c38-2314-4536-a286-523a92cd1f4b",
   "metadata": {
    "tags": []
   },
   "outputs": [
    {
     "data": {
      "text/html": [
       "<div><i>Table length=3</i>\n",
       "<table id=\"table139669738681744\" class=\"table-striped table-bordered table-condensed\">\n",
       "<thead><tr><th>baseDC2/target_halo_mass</th><th>redshift</th><th>redshiftHubble</th><th>redshift_true</th><th>ra</th><th>ra_true</th><th>is_central</th><th>dec</th><th>dec_true</th><th>shear_1</th><th>shear_2</th><th>shear_2_treecorr</th><th>shear1</th><th>shear2</th><th>tidal_s_11</th><th>tidal_s_12</th><th>tidal_s_22</th><th>mag_true_r</th><th>mag_true_r_sdss</th><th>mag_true_r_lsst</th><th>baseDC2/target_halo_x</th><th>baseDC2/target_halo_y</th><th>baseDC2/target_halo_z</th><th>baseDC2/target_halo_axis_A_x</th><th>baseDC2/target_halo_axis_A_y</th><th>baseDC2/target_halo_axis_A_z</th><th>ellipticity_1_true</th><th>ellipticity_2_true</th><th>ellipticity_true</th><th>x</th><th>y</th><th>z</th><th>morphology/totalEllipticity</th><th>morphology/totalEllipticity1</th><th>morphology/totalEllipticity2</th><th>baseDC2/hostid</th><th>baseDC2/upid</th><th>galaxyID</th><th>baseDC2/halo_id</th></tr></thead>\n",
       "<thead><tr><th>float64</th><th>float64</th><th>float64</th><th>float64</th><th>float64</th><th>float64</th><th>str5</th><th>float64</th><th>float64</th><th>float64</th><th>float64</th><th>float64</th><th>float64</th><th>float64</th><th>float64</th><th>float64</th><th>float64</th><th>float64</th><th>float64</th><th>float64</th><th>float64</th><th>float64</th><th>float64</th><th>float64</th><th>float64</th><th>float64</th><th>float64</th><th>float64</th><th>float64</th><th>float64</th><th>float64</th><th>float64</th><th>float64</th><th>float64</th><th>float64</th><th>int64</th><th>int64</th><th>int64</th><th>int64</th></tr></thead>\n",
       "<tr><td>1265839898624.0</td><td>0.33634516418750793</td><td>0.3345816135406494</td><td>0.3345816135406494</td><td>19.921991060109004</td><td>19.921991060109004</td><td>False</td><td>-19.505210593502696</td><td>-19.505210593502696</td><td>0.0002958224649184382</td><td>0.0012555207331540184</td><td>0.0012555207331540184</td><td>0.0002958224649184382</td><td>-0.0012555207331540184</td><td>0.07213325412498577</td><td>0.12199272786515983</td><td>0.0782317823644776</td><td>20.828372955322266</td><td>20.82084083557129</td><td>20.828372955322266</td><td>826.093994140625</td><td>299.4614562988281</td><td>-311.1468200683594</td><td>-0.15766023645996888</td><td>0.0579063615581522</td><td>0.22257913082211578</td><td>-0.1925445944070816</td><td>-0.023079339414834976</td><td>0.19392286241054535</td><td>826.1620618680558</td><td>299.4251879554517</td><td>-311.2711581422837</td><td>0.19392286241054535</td><td>-0.1925445944070816</td><td>0.023079339414834976</td><td>0</td><td>10632946345</td><td>8135000041286</td><td>28000005819048727</td></tr>\n",
       "<tr><td>521122250752.0</td><td>0.33581252789374694</td><td>0.3342313766479492</td><td>0.3342313766479492</td><td>19.89872622766355</td><td>19.89872622766355</td><td>True</td><td>-19.48294505218395</td><td>-19.48294505218395</td><td>-0.001503437587146883</td><td>-0.0010985791985199964</td><td>-0.0010985791985199964</td><td>-0.001503437587146883</td><td>0.0010985791985199964</td><td>0.01783277439987545</td><td>0.20341225000857263</td><td>-0.015356598185086265</td><td>20.99618911743164</td><td>20.99260902404785</td><td>20.99618911743164</td><td>825.5230712890625</td><td>298.8144226074219</td><td>-310.6007385253906</td><td>0.12289682771012664</td><td>0.001963134047736714</td><td>0.16709358712071287</td><td>-0.11898504197597504</td><td>-0.06718586385250092</td><td>0.13664326071739197</td><td>825.5230712890625</td><td>298.8144226074219</td><td>-310.6007385253906</td><td>0.13664326071739197</td><td>-0.11898504197597504</td><td>0.06718586385250092</td><td>0</td><td>-1</td><td>8135000042076</td><td>10592084377</td></tr>\n",
       "<tr><td>22381835370.07338</td><td>0.3080382023060484</td><td>0.30784107449980413</td><td>0.30784107449980413</td><td>19.883734911890933</td><td>19.883734911890933</td><td>True</td><td>-19.625643041563194</td><td>-19.625643041563194</td><td>0.0012633007694550225</td><td>-0.00024002137846589815</td><td>-0.00024002137846589815</td><td>0.0012633007694550225</td><td>0.00024002137846589815</td><td>-0.0734392082782257</td><td>-0.010152709473956335</td><td>0.01452869015302632</td><td>25.51520347595215</td><td>25.515697479248047</td><td>25.51520347595215</td><td>764.43603515625</td><td>276.4765625</td><td>-289.8696594238281</td><td>0.0</td><td>0.0</td><td>0.0</td><td>-0.04278256371617317</td><td>0.29465779662132263</td><td>0.29774749279022217</td><td>764.43603515625</td><td>276.4765625</td><td>-289.8696594238281</td><td>0.29774749279022217</td><td>-0.04278256371617317</td><td>-0.29465779662132263</td><td>10613257929</td><td>-1</td><td>8135000044947</td><td>-20</td></tr>\n",
       "</table></div>"
      ],
      "text/plain": [
       "<Table length=3>\n",
       "baseDC2/target_halo_mass       redshift      ...    galaxyID    baseDC2/halo_id \n",
       "        float64                float64       ...     int64           int64      \n",
       "------------------------ ------------------- ... ------------- -----------------\n",
       "         1265839898624.0 0.33634516418750793 ... 8135000041286 28000005819048727\n",
       "          521122250752.0 0.33581252789374694 ... 8135000042076       10592084377\n",
       "       22381835370.07338  0.3080382023060484 ... 8135000044947               -20"
      ]
     },
     "execution_count": 24,
     "metadata": {},
     "output_type": "execute_result"
    }
   ],
   "source": [
    "tab[ind:ind+3]"
   ]
  },
  {
   "cell_type": "code",
   "execution_count": 28,
   "id": "c5816311-3fd8-41f2-83f2-8f7d8aedc594",
   "metadata": {
    "tags": []
   },
   "outputs": [],
   "source": [
    "host_mask = tab[\"baseDC2/halo_id\"] == tab[\"baseDC2/hostid\"]"
   ]
  },
  {
   "cell_type": "code",
   "execution_count": 29,
   "id": "876c0bdb-e01a-47b1-b6ae-fbc625c74821",
   "metadata": {
    "tags": []
   },
   "outputs": [
    {
     "data": {
      "text/plain": [
       "0"
      ]
     },
     "execution_count": 29,
     "metadata": {},
     "output_type": "execute_result"
    }
   ],
   "source": [
    "sum(host_mask)"
   ]
  },
  {
   "cell_type": "code",
   "execution_count": 30,
   "id": "2e3c487d-ce12-478f-ba95-fbca1776e830",
   "metadata": {
    "tags": []
   },
   "outputs": [],
   "source": [
    "halo_ids = set(tab[\"baseDC2/halo_id\"])\n",
    "host_ids = set(tab[\"baseDC2/hostid\"])\n",
    "upids = set(tab[\"baseDC2/upid\"])"
   ]
  },
  {
   "cell_type": "code",
   "execution_count": 38,
   "id": "0dc65e13-1c2f-4962-9f73-2001d4f9c8d9",
   "metadata": {
    "tags": []
   },
   "outputs": [],
   "source": [
    "hold = peek(halo_ids & host_ids)"
   ]
  },
  {
   "cell_type": "code",
   "execution_count": 39,
   "id": "aba71e75-d9cc-474c-af86-c98c5e9ec139",
   "metadata": {
    "tags": []
   },
   "outputs": [
    {
     "data": {
      "text/plain": [
       "8289124356"
      ]
     },
     "execution_count": 39,
     "metadata": {},
     "output_type": "execute_result"
    }
   ],
   "source": [
    "hold"
   ]
  },
  {
   "cell_type": "code",
   "execution_count": 40,
   "id": "e26a946b-ef63-4d3e-9c19-e4b9d865c5ed",
   "metadata": {
    "tags": []
   },
   "outputs": [],
   "source": [
    "mask = (tab[\"baseDC2/halo_id\"] == hold) | (tab[\"baseDC2/upid\"] == hold) | (tab[\"baseDC2/hostid\"] == hold)"
   ]
  },
  {
   "cell_type": "code",
   "execution_count": 41,
   "id": "339d4260-89e6-4da6-abe5-164c090a0db1",
   "metadata": {
    "tags": []
   },
   "outputs": [
    {
     "data": {
      "text/html": [
       "<div><i>Table length=14</i>\n",
       "<table id=\"table139670055973584\" class=\"table-striped table-bordered table-condensed\">\n",
       "<thead><tr><th>baseDC2/halo_id</th><th>baseDC2/hostid</th><th>baseDC2/upid</th><th>galaxyID</th></tr></thead>\n",
       "<thead><tr><th>int64</th><th>int64</th><th>int64</th><th>int64</th></tr></thead>\n",
       "<tr><td>8289124356</td><td>0</td><td>-1</td><td>7745000533498</td></tr>\n",
       "<tr><td>8289124356</td><td>0</td><td>-1</td><td>7745000533883</td></tr>\n",
       "<tr><td>8289124356</td><td>0</td><td>-1</td><td>7745000536505</td></tr>\n",
       "<tr><td>8289124356</td><td>0</td><td>-1</td><td>7745000539531</td></tr>\n",
       "<tr><td>8289124356</td><td>0</td><td>-1</td><td>7745000541776</td></tr>\n",
       "<tr><td>8289124356</td><td>0</td><td>-1</td><td>7745000543463</td></tr>\n",
       "<tr><td>8289124356</td><td>0</td><td>-1</td><td>7745000544849</td></tr>\n",
       "<tr><td>8289124356</td><td>0</td><td>-1</td><td>7745000545292</td></tr>\n",
       "<tr><td>8289124356</td><td>0</td><td>-1</td><td>7745000549191</td></tr>\n",
       "<tr><td>8289124356</td><td>0</td><td>-1</td><td>7745000550460</td></tr>\n",
       "<tr><td>8289124356</td><td>0</td><td>-1</td><td>7745000553282</td></tr>\n",
       "<tr><td>8289124356</td><td>0</td><td>-1</td><td>7745000554773</td></tr>\n",
       "<tr><td>8289124356</td><td>0</td><td>-1</td><td>7745000555616</td></tr>\n",
       "<tr><td>-20</td><td>8289124356</td><td>-1</td><td>9152000589755</td></tr>\n",
       "</table></div>"
      ],
      "text/plain": [
       "<Table length=14>\n",
       "baseDC2/halo_id baseDC2/hostid baseDC2/upid    galaxyID  \n",
       "     int64          int64         int64         int64    \n",
       "--------------- -------------- ------------ -------------\n",
       "     8289124356              0           -1 7745000533498\n",
       "     8289124356              0           -1 7745000533883\n",
       "     8289124356              0           -1 7745000536505\n",
       "     8289124356              0           -1 7745000539531\n",
       "     8289124356              0           -1 7745000541776\n",
       "     8289124356              0           -1 7745000543463\n",
       "     8289124356              0           -1 7745000544849\n",
       "     8289124356              0           -1 7745000545292\n",
       "     8289124356              0           -1 7745000549191\n",
       "     8289124356              0           -1 7745000550460\n",
       "     8289124356              0           -1 7745000553282\n",
       "     8289124356              0           -1 7745000554773\n",
       "     8289124356              0           -1 7745000555616\n",
       "            -20     8289124356           -1 9152000589755"
      ]
     },
     "execution_count": 41,
     "metadata": {},
     "output_type": "execute_result"
    }
   ],
   "source": [
    "tab[\"baseDC2/halo_id\", \"baseDC2/hostid\", \"baseDC2/upid\", \"galaxyID\"][mask]"
   ]
  },
  {
   "cell_type": "code",
   "execution_count": 43,
   "id": "42761b98-a271-4832-9d31-8d225bf66b07",
   "metadata": {
    "tags": []
   },
   "outputs": [
    {
     "data": {
      "text/html": [
       "<div><i>Table length=14</i>\n",
       "<table id=\"table139669605147664\" class=\"table-striped table-bordered table-condensed\">\n",
       "<thead><tr><th>baseDC2/target_halo_axis_A_x</th><th>baseDC2/target_halo_axis_A_y</th><th>baseDC2/target_halo_axis_A_z</th><th>tidal_s_11</th><th>tidal_s_12</th><th>tidal_s_22</th></tr></thead>\n",
       "<thead><tr><th>float64</th><th>float64</th><th>float64</th><th>float64</th><th>float64</th><th>float64</th></tr></thead>\n",
       "<tr><td>0.03494791271064434</td><td>0.05324253006564974</td><td>-0.04483915636059218</td><td>-0.24196045238565367</td><td>0.33406125777729784</td><td>0.2169768281608127</td></tr>\n",
       "<tr><td>-0.059553145420826785</td><td>-0.04151876711800558</td><td>-0.02821858255190617</td><td>-0.22219068851284102</td><td>-0.2907297748573083</td><td>0.3271669004872879</td></tr>\n",
       "<tr><td>-0.017759818848742517</td><td>-0.05403667740431773</td><td>-0.05320996037692206</td><td>0.058706588583945854</td><td>0.08430427644524993</td><td>-0.06442835934630414</td></tr>\n",
       "<tr><td>-0.07740869895578846</td><td>0.00830787476082452</td><td>0.0023550152191942745</td><td>0.64948931659067</td><td>-0.10457541612828063</td><td>0.31528829262112956</td></tr>\n",
       "<tr><td>0.004817247954026852</td><td>0.04982408835770239</td><td>0.059674348720579744</td><td>0.18676539152977886</td><td>-0.25086239470954463</td><td>-0.24885638124196868</td></tr>\n",
       "<tr><td>-0.010622445632270074</td><td>-0.03984961849144605</td><td>-0.0660745420614304</td><td>-0.008957975667555382</td><td>-0.03156584386103595</td><td>-0.04430883811111129</td></tr>\n",
       "<tr><td>-0.03049239552566104</td><td>0.06925510921222222</td><td>0.018455817967835655</td><td>0.12207211490494208</td><td>-0.03536755981882218</td><td>-0.010059644208172847</td></tr>\n",
       "<tr><td>-0.029552598740167385</td><td>0.03574015081854672</td><td>-0.06257762444294493</td><td>0.09831031242843248</td><td>-0.11144018647301158</td><td>-0.10203670735776738</td></tr>\n",
       "<tr><td>0.04245000206443471</td><td>0.0504235715066829</td><td>-0.04149860618131641</td><td>-0.027026277424777014</td><td>0.02783516848870066</td><td>0.16148249337260867</td></tr>\n",
       "<tr><td>0.04295044762454589</td><td>-0.01786059676578461</td><td>0.06247344784605098</td><td>-0.08461722189485117</td><td>-0.6576823378005981</td><td>0.21772963674365656</td></tr>\n",
       "<tr><td>-0.013508702944918988</td><td>-0.04369122394125639</td><td>-0.06304970617705516</td><td>-0.05707417386803074</td><td>0.07882640598228648</td><td>-0.025090822859347675</td></tr>\n",
       "<tr><td>0.04958292740611774</td><td>-0.05809809003820362</td><td>-0.015258400882940174</td><td>0.473908840604452</td><td>-0.0888541747050235</td><td>-0.36335245743907707</td></tr>\n",
       "<tr><td>0.0454709883447956</td><td>0.03447240980004541</td><td>-0.053016183710988304</td><td>0.019496870406661405</td><td>-0.23057200146337875</td><td>-0.10103035500767205</td></tr>\n",
       "<tr><td>0.0</td><td>0.0</td><td>0.0</td><td>-0.0680169551553994</td><td>-0.28189732427872916</td><td>-0.023689793677992812</td></tr>\n",
       "</table></div>"
      ],
      "text/plain": [
       "<Table length=14>\n",
       "baseDC2/target_halo_axis_A_x ...       tidal_s_22     \n",
       "          float64            ...        float64       \n",
       "---------------------------- ... ---------------------\n",
       "         0.03494791271064434 ...    0.2169768281608127\n",
       "       -0.059553145420826785 ...    0.3271669004872879\n",
       "       -0.017759818848742517 ...  -0.06442835934630414\n",
       "        -0.07740869895578846 ...   0.31528829262112956\n",
       "        0.004817247954026852 ...  -0.24885638124196868\n",
       "       -0.010622445632270074 ...  -0.04430883811111129\n",
       "        -0.03049239552566104 ... -0.010059644208172847\n",
       "       -0.029552598740167385 ...  -0.10203670735776738\n",
       "         0.04245000206443471 ...   0.16148249337260867\n",
       "         0.04295044762454589 ...   0.21772963674365656\n",
       "       -0.013508702944918988 ... -0.025090822859347675\n",
       "         0.04958292740611774 ...  -0.36335245743907707\n",
       "          0.0454709883447956 ...  -0.10103035500767205\n",
       "                         0.0 ... -0.023689793677992812"
      ]
     },
     "execution_count": 43,
     "metadata": {},
     "output_type": "execute_result"
    }
   ],
   "source": [
    "tab[\"baseDC2/target_halo_axis_A_x\", \"baseDC2/target_halo_axis_A_y\", \"baseDC2/target_halo_axis_A_z\", \"tidal_s_11\", \"tidal_s_12\", \"tidal_s_22\"][mask]"
   ]
  },
  {
   "cell_type": "code",
   "execution_count": null,
   "id": "6b263657-4009-4479-aa96-1cb57ca2a6ff",
   "metadata": {},
   "outputs": [],
   "source": []
  }
 ],
 "metadata": {
  "kernelspec": {
   "display_name": "NERSC Python",
   "language": "python",
   "name": "python3"
  },
  "language_info": {
   "codemirror_mode": {
    "name": "ipython",
    "version": 3
   },
   "file_extension": ".py",
   "mimetype": "text/x-python",
   "name": "python",
   "nbconvert_exporter": "python",
   "pygments_lexer": "ipython3",
   "version": "3.11.7"
  }
 },
 "nbformat": 4,
 "nbformat_minor": 5
}
