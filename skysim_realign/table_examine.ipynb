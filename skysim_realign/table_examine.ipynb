{
 "cells": [
  {
   "cell_type": "code",
   "execution_count": 3,
   "id": "7f624a7c-5682-4d89-996b-b2befef443db",
   "metadata": {
    "tags": []
   },
   "outputs": [],
   "source": [
    "from astropy.table import Table\n",
    "import numpy as np\n",
    "from astropy.io import ascii"
   ]
  },
  {
   "cell_type": "code",
   "execution_count": 46,
   "id": "fe78f82c-2d13-4afb-9b38-504297b6c725",
   "metadata": {
    "tags": []
   },
   "outputs": [],
   "source": [
    "def peek(some_set, ind=None):\n",
    "    if ind is None:\n",
    "        a = some_set.pop()\n",
    "        some_set.add(a)\n",
    "        return a\n",
    "    \n",
    "    assert isinstance(ind, int), \"Index must be integer\"\n",
    "    assert ind >= 0, \"Index must be positive integer\"\n",
    "    assert ind < len(some_set), \"Index must be less than the length of the set\"\n",
    "    i = 0\n",
    "    for el in some_set:\n",
    "        if i == ind:\n",
    "            return el\n",
    "        i += 1"
   ]
  },
  {
   "cell_type": "code",
   "execution_count": 8,
   "id": "db85f228-a458-4fbd-8eff-e8bd2fea4a92",
   "metadata": {
    "tags": []
   },
   "outputs": [],
   "source": [
    "path = \"/pscratch/sd/v/vanalfen/table_examine.dat\""
   ]
  },
  {
   "cell_type": "code",
   "execution_count": 15,
   "id": "309dbeb6-f5d3-4b79-9e2d-1961347e6f53",
   "metadata": {
    "tags": []
   },
   "outputs": [],
   "source": [
    "tab = ascii.read(path)"
   ]
  },
  {
   "cell_type": "code",
   "execution_count": 16,
   "id": "0f264386-4f3d-4920-9e01-79664f314a35",
   "metadata": {
    "tags": []
   },
   "outputs": [
    {
     "data": {
      "text/plain": [
       "['baseDC2/target_halo_mass',\n",
       " 'redshift',\n",
       " 'redshiftHubble',\n",
       " 'redshift_true',\n",
       " 'ra',\n",
       " 'ra_true',\n",
       " 'is_central',\n",
       " 'dec',\n",
       " 'dec_true',\n",
       " 'shear_1',\n",
       " 'shear_2',\n",
       " 'shear_2_treecorr',\n",
       " 'shear1',\n",
       " 'shear2',\n",
       " 'tidal_s_11',\n",
       " 'tidal_s_12',\n",
       " 'tidal_s_22',\n",
       " 'mag_true_r',\n",
       " 'mag_true_r_sdss',\n",
       " 'mag_true_r_lsst',\n",
       " 'baseDC2/target_halo_x',\n",
       " 'baseDC2/target_halo_y',\n",
       " 'baseDC2/target_halo_z',\n",
       " 'baseDC2/target_halo_axis_A_x',\n",
       " 'baseDC2/target_halo_axis_A_y',\n",
       " 'baseDC2/target_halo_axis_A_z',\n",
       " 'ellipticity_1_true',\n",
       " 'ellipticity_2_true',\n",
       " 'ellipticity_true',\n",
       " 'x',\n",
       " 'y',\n",
       " 'z',\n",
       " 'morphology/totalEllipticity',\n",
       " 'morphology/totalEllipticity1',\n",
       " 'morphology/totalEllipticity2',\n",
       " 'baseDC2/hostid',\n",
       " 'baseDC2/upid',\n",
       " 'galaxyID',\n",
       " 'baseDC2/halo_id']"
      ]
     },
     "execution_count": 16,
     "metadata": {},
     "output_type": "execute_result"
    }
   ],
   "source": [
    "tab.keys()"
   ]
  },
  {
   "cell_type": "code",
   "execution_count": 19,
   "id": "42a5efc8-9ee1-48dd-904f-5d7b84d17bea",
   "metadata": {
    "tags": []
   },
   "outputs": [
    {
     "data": {
      "text/html": [
       "<div><i>Table length=3439960</i>\n",
       "<table id=\"table139669738953616\" class=\"table-striped table-bordered table-condensed\">\n",
       "<thead><tr><th>baseDC2/halo_id</th><th>baseDC2/hostid</th><th>baseDC2/upid</th><th>galaxyID</th></tr></thead>\n",
       "<thead><tr><th>int64</th><th>int64</th><th>int64</th><th>int64</th></tr></thead>\n",
       "<tr><td>-20</td><td>11843877242</td><td>-1</td><td>8135000000818</td></tr>\n",
       "<tr><td>-20</td><td>11844042612</td><td>-1</td><td>8135000002521</td></tr>\n",
       "<tr><td>-20</td><td>11539210454</td><td>-1</td><td>8135000007351</td></tr>\n",
       "<tr><td>-20</td><td>11104994218</td><td>-1</td><td>8135000012658</td></tr>\n",
       "<tr><td>-20</td><td>11121500911</td><td>-1</td><td>8135000013157</td></tr>\n",
       "<tr><td>-20</td><td>11110018661</td><td>-1</td><td>8135000018880</td></tr>\n",
       "<tr><td>-20</td><td>11092350049</td><td>-1</td><td>8135000019304</td></tr>\n",
       "<tr><td>-20</td><td>11074731652</td><td>-1</td><td>8135000020025</td></tr>\n",
       "<tr><td>-20</td><td>11103113392</td><td>-1</td><td>8135000020822</td></tr>\n",
       "<tr><td>-20</td><td>11086822250</td><td>-1</td><td>8135000021431</td></tr>\n",
       "<tr><td>...</td><td>...</td><td>...</td><td>...</td></tr>\n",
       "<tr><td>-20</td><td>7597410615</td><td>-1</td><td>9792000419873</td></tr>\n",
       "<tr><td>-20</td><td>7609729802</td><td>-1</td><td>9792000420069</td></tr>\n",
       "<tr><td>-20</td><td>7590450812</td><td>-1</td><td>9792000421694</td></tr>\n",
       "<tr><td>-20</td><td>7578481585</td><td>-1</td><td>9792000422434</td></tr>\n",
       "<tr><td>-20</td><td>7606693308</td><td>-1</td><td>9792000422450</td></tr>\n",
       "<tr><td>-20</td><td>7589777164</td><td>-1</td><td>9792000422652</td></tr>\n",
       "<tr><td>-20</td><td>7609181109</td><td>-1</td><td>9792000423341</td></tr>\n",
       "<tr><td>-20</td><td>7586697829</td><td>-1</td><td>9792000423437</td></tr>\n",
       "<tr><td>-20</td><td>7586784284</td><td>-1</td><td>9792000423976</td></tr>\n",
       "<tr><td>-20</td><td>7588454583</td><td>-1</td><td>9792000424079</td></tr>\n",
       "</table></div>"
      ],
      "text/plain": [
       "<Table length=3439960>\n",
       "baseDC2/halo_id baseDC2/hostid baseDC2/upid    galaxyID  \n",
       "     int64          int64         int64         int64    \n",
       "--------------- -------------- ------------ -------------\n",
       "            -20    11843877242           -1 8135000000818\n",
       "            -20    11844042612           -1 8135000002521\n",
       "            -20    11539210454           -1 8135000007351\n",
       "            -20    11104994218           -1 8135000012658\n",
       "            -20    11121500911           -1 8135000013157\n",
       "            -20    11110018661           -1 8135000018880\n",
       "            -20    11092350049           -1 8135000019304\n",
       "            -20    11074731652           -1 8135000020025\n",
       "            -20    11103113392           -1 8135000020822\n",
       "            -20    11086822250           -1 8135000021431\n",
       "            ...            ...          ...           ...\n",
       "            -20     7597410615           -1 9792000419873\n",
       "            -20     7609729802           -1 9792000420069\n",
       "            -20     7590450812           -1 9792000421694\n",
       "            -20     7578481585           -1 9792000422434\n",
       "            -20     7606693308           -1 9792000422450\n",
       "            -20     7589777164           -1 9792000422652\n",
       "            -20     7609181109           -1 9792000423341\n",
       "            -20     7586697829           -1 9792000423437\n",
       "            -20     7586784284           -1 9792000423976\n",
       "            -20     7588454583           -1 9792000424079"
      ]
     },
     "execution_count": 19,
     "metadata": {},
     "output_type": "execute_result"
    }
   ],
   "source": [
    "tab[\"baseDC2/halo_id\", \"baseDC2/hostid\", \"baseDC2/upid\", \"galaxyID\"]"
   ]
  },
  {
   "cell_type": "code",
   "execution_count": 21,
   "id": "ecba881d-e7d4-42a2-ad3b-0393143aaa03",
   "metadata": {
    "tags": []
   },
   "outputs": [],
   "source": [
    "ind = 0\n",
    "for i in range(len(tab[\"baseDC2/hostid\"])):\n",
    "    if tab[\"baseDC2/hostid\"][i] == tab[\"baseDC2/hostid\"][i+1]:\n",
    "        ind = i\n",
    "        break"
   ]
  },
  {
   "cell_type": "code",
   "execution_count": 22,
   "id": "01e7e9d0-b1a1-4bb2-a73e-c2d45a5b6db5",
   "metadata": {
    "tags": []
   },
   "outputs": [
    {
     "data": {
      "text/plain": [
       "17"
      ]
     },
     "execution_count": 22,
     "metadata": {},
     "output_type": "execute_result"
    }
   ],
   "source": [
    "ind"
   ]
  },
  {
   "cell_type": "code",
   "execution_count": 24,
   "id": "ffbb4c38-2314-4536-a286-523a92cd1f4b",
   "metadata": {
    "tags": []
   },
   "outputs": [
    {
     "data": {
      "text/html": [
       "<div><i>Table length=3</i>\n",
       "<table id=\"table139669738681744\" class=\"table-striped table-bordered table-condensed\">\n",
       "<thead><tr><th>baseDC2/target_halo_mass</th><th>redshift</th><th>redshiftHubble</th><th>redshift_true</th><th>ra</th><th>ra_true</th><th>is_central</th><th>dec</th><th>dec_true</th><th>shear_1</th><th>shear_2</th><th>shear_2_treecorr</th><th>shear1</th><th>shear2</th><th>tidal_s_11</th><th>tidal_s_12</th><th>tidal_s_22</th><th>mag_true_r</th><th>mag_true_r_sdss</th><th>mag_true_r_lsst</th><th>baseDC2/target_halo_x</th><th>baseDC2/target_halo_y</th><th>baseDC2/target_halo_z</th><th>baseDC2/target_halo_axis_A_x</th><th>baseDC2/target_halo_axis_A_y</th><th>baseDC2/target_halo_axis_A_z</th><th>ellipticity_1_true</th><th>ellipticity_2_true</th><th>ellipticity_true</th><th>x</th><th>y</th><th>z</th><th>morphology/totalEllipticity</th><th>morphology/totalEllipticity1</th><th>morphology/totalEllipticity2</th><th>baseDC2/hostid</th><th>baseDC2/upid</th><th>galaxyID</th><th>baseDC2/halo_id</th></tr></thead>\n",
       "<thead><tr><th>float64</th><th>float64</th><th>float64</th><th>float64</th><th>float64</th><th>float64</th><th>str5</th><th>float64</th><th>float64</th><th>float64</th><th>float64</th><th>float64</th><th>float64</th><th>float64</th><th>float64</th><th>float64</th><th>float64</th><th>float64</th><th>float64</th><th>float64</th><th>float64</th><th>float64</th><th>float64</th><th>float64</th><th>float64</th><th>float64</th><th>float64</th><th>float64</th><th>float64</th><th>float64</th><th>float64</th><th>float64</th><th>float64</th><th>float64</th><th>float64</th><th>int64</th><th>int64</th><th>int64</th><th>int64</th></tr></thead>\n",
       "<tr><td>1265839898624.0</td><td>0.33634516418750793</td><td>0.3345816135406494</td><td>0.3345816135406494</td><td>19.921991060109004</td><td>19.921991060109004</td><td>False</td><td>-19.505210593502696</td><td>-19.505210593502696</td><td>0.0002958224649184382</td><td>0.0012555207331540184</td><td>0.0012555207331540184</td><td>0.0002958224649184382</td><td>-0.0012555207331540184</td><td>0.07213325412498577</td><td>0.12199272786515983</td><td>0.0782317823644776</td><td>20.828372955322266</td><td>20.82084083557129</td><td>20.828372955322266</td><td>826.093994140625</td><td>299.4614562988281</td><td>-311.1468200683594</td><td>-0.15766023645996888</td><td>0.0579063615581522</td><td>0.22257913082211578</td><td>-0.1925445944070816</td><td>-0.023079339414834976</td><td>0.19392286241054535</td><td>826.1620618680558</td><td>299.4251879554517</td><td>-311.2711581422837</td><td>0.19392286241054535</td><td>-0.1925445944070816</td><td>0.023079339414834976</td><td>0</td><td>10632946345</td><td>8135000041286</td><td>28000005819048727</td></tr>\n",
       "<tr><td>521122250752.0</td><td>0.33581252789374694</td><td>0.3342313766479492</td><td>0.3342313766479492</td><td>19.89872622766355</td><td>19.89872622766355</td><td>True</td><td>-19.48294505218395</td><td>-19.48294505218395</td><td>-0.001503437587146883</td><td>-0.0010985791985199964</td><td>-0.0010985791985199964</td><td>-0.001503437587146883</td><td>0.0010985791985199964</td><td>0.01783277439987545</td><td>0.20341225000857263</td><td>-0.015356598185086265</td><td>20.99618911743164</td><td>20.99260902404785</td><td>20.99618911743164</td><td>825.5230712890625</td><td>298.8144226074219</td><td>-310.6007385253906</td><td>0.12289682771012664</td><td>0.001963134047736714</td><td>0.16709358712071287</td><td>-0.11898504197597504</td><td>-0.06718586385250092</td><td>0.13664326071739197</td><td>825.5230712890625</td><td>298.8144226074219</td><td>-310.6007385253906</td><td>0.13664326071739197</td><td>-0.11898504197597504</td><td>0.06718586385250092</td><td>0</td><td>-1</td><td>8135000042076</td><td>10592084377</td></tr>\n",
       "<tr><td>22381835370.07338</td><td>0.3080382023060484</td><td>0.30784107449980413</td><td>0.30784107449980413</td><td>19.883734911890933</td><td>19.883734911890933</td><td>True</td><td>-19.625643041563194</td><td>-19.625643041563194</td><td>0.0012633007694550225</td><td>-0.00024002137846589815</td><td>-0.00024002137846589815</td><td>0.0012633007694550225</td><td>0.00024002137846589815</td><td>-0.0734392082782257</td><td>-0.010152709473956335</td><td>0.01452869015302632</td><td>25.51520347595215</td><td>25.515697479248047</td><td>25.51520347595215</td><td>764.43603515625</td><td>276.4765625</td><td>-289.8696594238281</td><td>0.0</td><td>0.0</td><td>0.0</td><td>-0.04278256371617317</td><td>0.29465779662132263</td><td>0.29774749279022217</td><td>764.43603515625</td><td>276.4765625</td><td>-289.8696594238281</td><td>0.29774749279022217</td><td>-0.04278256371617317</td><td>-0.29465779662132263</td><td>10613257929</td><td>-1</td><td>8135000044947</td><td>-20</td></tr>\n",
       "</table></div>"
      ],
      "text/plain": [
       "<Table length=3>\n",
       "baseDC2/target_halo_mass       redshift      ...    galaxyID    baseDC2/halo_id \n",
       "        float64                float64       ...     int64           int64      \n",
       "------------------------ ------------------- ... ------------- -----------------\n",
       "         1265839898624.0 0.33634516418750793 ... 8135000041286 28000005819048727\n",
       "          521122250752.0 0.33581252789374694 ... 8135000042076       10592084377\n",
       "       22381835370.07338  0.3080382023060484 ... 8135000044947               -20"
      ]
     },
     "execution_count": 24,
     "metadata": {},
     "output_type": "execute_result"
    }
   ],
   "source": [
    "tab[ind:ind+3]"
   ]
  },
  {
   "cell_type": "code",
   "execution_count": 28,
   "id": "c5816311-3fd8-41f2-83f2-8f7d8aedc594",
   "metadata": {
    "tags": []
   },
   "outputs": [],
   "source": [
    "host_mask = tab[\"baseDC2/halo_id\"] == tab[\"baseDC2/hostid\"]"
   ]
  },
  {
   "cell_type": "code",
   "execution_count": 29,
   "id": "876c0bdb-e01a-47b1-b6ae-fbc625c74821",
   "metadata": {
    "tags": []
   },
   "outputs": [
    {
     "data": {
      "text/plain": [
       "0"
      ]
     },
     "execution_count": 29,
     "metadata": {},
     "output_type": "execute_result"
    }
   ],
   "source": [
    "sum(host_mask)"
   ]
  },
  {
   "cell_type": "code",
   "execution_count": 30,
   "id": "2e3c487d-ce12-478f-ba95-fbca1776e830",
   "metadata": {
    "tags": []
   },
   "outputs": [],
   "source": [
    "halo_ids = set(tab[\"baseDC2/halo_id\"])\n",
    "host_ids = set(tab[\"baseDC2/hostid\"])\n",
    "upids = set(tab[\"baseDC2/upid\"])"
   ]
  },
  {
   "cell_type": "code",
   "execution_count": 67,
   "id": "0dc65e13-1c2f-4962-9f73-2001d4f9c8d9",
   "metadata": {
    "tags": []
   },
   "outputs": [],
   "source": [
    "hold = peek(halo_ids & upids, ind=0)"
   ]
  },
  {
   "cell_type": "code",
   "execution_count": 68,
   "id": "aba71e75-d9cc-474c-af86-c98c5e9ec139",
   "metadata": {
    "tags": []
   },
   "outputs": [
    {
     "data": {
      "text/plain": [
       "7607418880"
      ]
     },
     "execution_count": 68,
     "metadata": {},
     "output_type": "execute_result"
    }
   ],
   "source": [
    "hold"
   ]
  },
  {
   "cell_type": "code",
   "execution_count": 69,
   "id": "e26a946b-ef63-4d3e-9c19-e4b9d865c5ed",
   "metadata": {
    "tags": []
   },
   "outputs": [],
   "source": [
    "mask = (tab[\"baseDC2/halo_id\"] == hold) | (tab[\"baseDC2/upid\"] == hold) | (tab[\"baseDC2/hostid\"] == hold)"
   ]
  },
  {
   "cell_type": "code",
   "execution_count": 70,
   "id": "339d4260-89e6-4da6-abe5-164c090a0db1",
   "metadata": {
    "tags": []
   },
   "outputs": [
    {
     "data": {
      "text/html": [
       "<div><i>Table length=2</i>\n",
       "<table id=\"table139669605539408\" class=\"table-striped table-bordered table-condensed\">\n",
       "<thead><tr><th>baseDC2/halo_id</th><th>baseDC2/hostid</th><th>baseDC2/upid</th><th>galaxyID</th></tr></thead>\n",
       "<thead><tr><th>int64</th><th>int64</th><th>int64</th><th>int64</th></tr></thead>\n",
       "<tr><td>7607418880</td><td>0</td><td>-1</td><td>8006000798576</td></tr>\n",
       "<tr><td>5000006719253060</td><td>0</td><td>7607418880</td><td>8006000826128</td></tr>\n",
       "</table></div>"
      ],
      "text/plain": [
       "<Table length=2>\n",
       "baseDC2/halo_id  baseDC2/hostid baseDC2/upid    galaxyID  \n",
       "     int64           int64         int64         int64    \n",
       "---------------- -------------- ------------ -------------\n",
       "      7607418880              0           -1 8006000798576\n",
       "5000006719253060              0   7607418880 8006000826128"
      ]
     },
     "execution_count": 70,
     "metadata": {},
     "output_type": "execute_result"
    }
   ],
   "source": [
    "tab[\"baseDC2/halo_id\", \"baseDC2/hostid\", \"baseDC2/upid\", \"galaxyID\"][mask]"
   ]
  },
  {
   "cell_type": "code",
   "execution_count": 71,
   "id": "42761b98-a271-4832-9d31-8d225bf66b07",
   "metadata": {
    "tags": []
   },
   "outputs": [
    {
     "data": {
      "text/html": [
       "<div><i>Table length=2</i>\n",
       "<table id=\"table139669605153680\" class=\"table-striped table-bordered table-condensed\">\n",
       "<thead><tr><th>baseDC2/target_halo_axis_A_x</th><th>baseDC2/target_halo_axis_A_y</th><th>baseDC2/target_halo_axis_A_z</th><th>tidal_s_11</th><th>tidal_s_12</th><th>tidal_s_22</th></tr></thead>\n",
       "<thead><tr><th>float64</th><th>float64</th><th>float64</th><th>float64</th><th>float64</th><th>float64</th></tr></thead>\n",
       "<tr><td>0.06795164980368389</td><td>-0.10203585827688506</td><td>0.005802802138045207</td><td>-0.08198000886792849</td><td>0.09989036146668555</td><td>0.2136228320621223</td></tr>\n",
       "<tr><td>-0.10081339489770313</td><td>0.06096322005769963</td><td>0.034388381866447645</td><td>0.09200036744436318</td><td>-0.09700421735776402</td><td>-0.06887872501561151</td></tr>\n",
       "</table></div>"
      ],
      "text/plain": [
       "<Table length=2>\n",
       "baseDC2/target_halo_axis_A_x ...      tidal_s_22     \n",
       "          float64            ...       float64       \n",
       "---------------------------- ... --------------------\n",
       "         0.06795164980368389 ...   0.2136228320621223\n",
       "        -0.10081339489770313 ... -0.06887872501561151"
      ]
     },
     "execution_count": 71,
     "metadata": {},
     "output_type": "execute_result"
    }
   ],
   "source": [
    "tab[\"baseDC2/target_halo_axis_A_x\", \"baseDC2/target_halo_axis_A_y\", \"baseDC2/target_halo_axis_A_z\", \"tidal_s_11\", \"tidal_s_12\", \"tidal_s_22\"][mask]"
   ]
  },
  {
   "cell_type": "code",
   "execution_count": null,
   "id": "6b263657-4009-4479-aa96-1cb57ca2a6ff",
   "metadata": {},
   "outputs": [],
   "source": []
  }
 ],
 "metadata": {
  "kernelspec": {
   "display_name": "NERSC Python",
   "language": "python",
   "name": "python3"
  },
  "language_info": {
   "codemirror_mode": {
    "name": "ipython",
    "version": 3
   },
   "file_extension": ".py",
   "mimetype": "text/x-python",
   "name": "python",
   "nbconvert_exporter": "python",
   "pygments_lexer": "ipython3",
   "version": "3.11.7"
  }
 },
 "nbformat": 4,
 "nbformat_minor": 5
}
